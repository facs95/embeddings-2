{
 "cells": [
  {
   "cell_type": "code",
   "execution_count": 1,
   "metadata": {},
   "outputs": [
    {
     "name": "stdout",
     "output_type": "stream",
     "text": [
      "Requirement already satisfied: groq in /Users/shevser/miniconda3/envs/embed-2-fr/lib/python3.12/site-packages (0.12.0)\n",
      "Requirement already satisfied: python-dotenv in /Users/shevser/miniconda3/envs/embed-2-fr/lib/python3.12/site-packages (1.0.1)\n",
      "Requirement already satisfied: anyio<5,>=3.5.0 in /Users/shevser/miniconda3/envs/embed-2-fr/lib/python3.12/site-packages (from groq) (4.6.2.post1)\n",
      "Requirement already satisfied: distro<2,>=1.7.0 in /Users/shevser/miniconda3/envs/embed-2-fr/lib/python3.12/site-packages (from groq) (1.9.0)\n",
      "Requirement already satisfied: httpx<1,>=0.23.0 in /Users/shevser/miniconda3/envs/embed-2-fr/lib/python3.12/site-packages (from groq) (0.27.2)\n",
      "Requirement already satisfied: pydantic<3,>=1.9.0 in /Users/shevser/miniconda3/envs/embed-2-fr/lib/python3.12/site-packages (from groq) (2.9.2)\n",
      "Requirement already satisfied: sniffio in /Users/shevser/miniconda3/envs/embed-2-fr/lib/python3.12/site-packages (from groq) (1.3.1)\n",
      "Requirement already satisfied: typing-extensions<5,>=4.7 in /Users/shevser/miniconda3/envs/embed-2-fr/lib/python3.12/site-packages (from groq) (4.12.2)\n",
      "Requirement already satisfied: idna>=2.8 in /Users/shevser/miniconda3/envs/embed-2-fr/lib/python3.12/site-packages (from anyio<5,>=3.5.0->groq) (3.10)\n",
      "Requirement already satisfied: certifi in /Users/shevser/miniconda3/envs/embed-2-fr/lib/python3.12/site-packages (from httpx<1,>=0.23.0->groq) (2024.8.30)\n",
      "Requirement already satisfied: httpcore==1.* in /Users/shevser/miniconda3/envs/embed-2-fr/lib/python3.12/site-packages (from httpx<1,>=0.23.0->groq) (1.0.7)\n",
      "Requirement already satisfied: h11<0.15,>=0.13 in /Users/shevser/miniconda3/envs/embed-2-fr/lib/python3.12/site-packages (from httpcore==1.*->httpx<1,>=0.23.0->groq) (0.14.0)\n",
      "Requirement already satisfied: annotated-types>=0.6.0 in /Users/shevser/miniconda3/envs/embed-2-fr/lib/python3.12/site-packages (from pydantic<3,>=1.9.0->groq) (0.7.0)\n",
      "Requirement already satisfied: pydantic-core==2.23.4 in /Users/shevser/miniconda3/envs/embed-2-fr/lib/python3.12/site-packages (from pydantic<3,>=1.9.0->groq) (2.23.4)\n",
      "Note: you may need to restart the kernel to use updated packages.\n"
     ]
    }
   ],
   "source": [
    "%pip install --upgrade groq python-dotenv"
   ]
  },
  {
   "cell_type": "code",
   "execution_count": 2,
   "metadata": {},
   "outputs": [
    {
     "data": {
      "text/plain": [
       "True"
      ]
     },
     "execution_count": 2,
     "metadata": {},
     "output_type": "execute_result"
    }
   ],
   "source": [
    "from dotenv import load_dotenv\n",
    "load_dotenv()"
   ]
  },
  {
   "cell_type": "code",
   "execution_count": 3,
   "metadata": {},
   "outputs": [
    {
     "data": {
      "text/plain": [
       "'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'"
      ]
     },
     "execution_count": 3,
     "metadata": {},
     "output_type": "execute_result"
    }
   ],
   "source": [
    "# try to get env variables\n",
    "import os\n",
    "os.environ.get('GROQ_API_KEY')"
   ]
  },
  {
   "cell_type": "code",
   "execution_count": 4,
   "metadata": {},
   "outputs": [
    {
     "name": "stdout",
     "output_type": "stream",
     "text": [
      "Total blocks:  15398\n"
     ]
    }
   ],
   "source": [
    "import sqlite3\n",
    "\n",
    "# Connect to the database\n",
    "conn = sqlite3.connect('data.db')\n",
    "\n",
    "# Create a cursor object\n",
    "cursor = conn.cursor()\n",
    "\n",
    "# Query all the pages\n",
    "cursor.execute('SELECT * FROM blocks')\n",
    "blocks = cursor.fetchall()\n",
    "print('Total blocks: ', len(blocks))"
   ]
  },
  {
   "cell_type": "code",
   "execution_count": 5,
   "metadata": {},
   "outputs": [
    {
     "name": "stdout",
     "output_type": "stream",
     "text": [
      "Total pages:  356\n"
     ]
    }
   ],
   "source": [
    "import sqlite3\n",
    "\n",
    "# Connect to the database\n",
    "conn = sqlite3.connect('data.db')\n",
    "\n",
    "# Create a cursor object\n",
    "cursor = conn.cursor()\n",
    "# Query all the pages\n",
    "cursor.execute('SELECT * FROM pages')\n",
    "pages = cursor.fetchall()\n",
    "print('Total pages: ', len(pages))"
   ]
  },
  {
   "cell_type": "code",
   "execution_count": 43,
   "metadata": {},
   "outputs": [
    {
     "name": "stdout",
     "output_type": "stream",
     "text": [
      "Shape of retrieved embeddings:  1 x 15778\n"
     ]
    }
   ],
   "source": [
    "import sqlite3\n",
    "import pickle\n",
    "\n",
    "# Connect to the database\n",
    "conn = sqlite3.connect('data.db')\n",
    "\n",
    "# Create a cursor object\n",
    "cursor = conn.cursor()\n",
    "\n",
    "# Create a cursor object\n",
    "cursor = conn.cursor()\n",
    "\n",
    "# Query the embeddings from the database\n",
    "cursor.execute('SELECT * FROM embeddings')\n",
    "retrieved_embeddings = cursor.fetchall()\n",
    "\n",
    "# Deserialize the embeddings\n",
    "retrieved_embeddings = [pickle.loads(row[1]) for row in retrieved_embeddings]\n",
    "\n",
    "print('Shape of retrieved embeddings: ', len(retrieved_embeddings), 'x', len(retrieved_embeddings[0]))\n"
   ]
  },
  {
   "cell_type": "code",
   "execution_count": 34,
   "metadata": {},
   "outputs": [
    {
     "name": "stdout",
     "output_type": "stream",
     "text": [
      "Shape of retrieved embeddings:  1 x 15778\n"
     ]
    }
   ],
   "source": [
    "print(\"Shape of retrieved embeddings: \", len(retrieved_embeddings), 'x', len(retrieved_embeddings[0]))"
   ]
  },
  {
   "cell_type": "code",
   "execution_count": 35,
   "metadata": {},
   "outputs": [
    {
     "data": {
      "application/vnd.jupyter.widget-view+json": {
       "model_id": "85870ffea2cf43b2a4e1385413db899a",
       "version_major": 2,
       "version_minor": 0
      },
      "text/plain": [
       "Fetching 5 files:   0%|          | 0/5 [00:00<?, ?it/s]"
      ]
     },
     "metadata": {},
     "output_type": "display_data"
    }
   ],
   "source": [
    "from fastembed import TextEmbedding\n",
    "# This will trigger the model download and initialization\n",
    "embedding_model = TextEmbedding()"
   ]
  },
  {
   "cell_type": "code",
   "execution_count": 47,
   "metadata": {},
   "outputs": [
    {
     "data": {
      "application/vnd.jupyter.widget-view+json": {
       "model_id": "c9fdea43477244cca737cd52734e0409",
       "version_major": 2,
       "version_minor": 0
      },
      "text/plain": [
       "Fetching 5 files:   0%|          | 0/5 [00:00<?, ?it/s]"
      ]
     },
     "metadata": {},
     "output_type": "display_data"
    }
   ],
   "source": [
    "query = [ 'What is the purpose of life?' ]\n",
    "# This will trigger the model download and initialization\n",
    "embedding_model = TextEmbedding()\n",
    "query_embedding = list(embedding_model.embed(query))"
   ]
  },
  {
   "cell_type": "code",
   "execution_count": 48,
   "metadata": {},
   "outputs": [
    {
     "name": "stdout",
     "output_type": "stream",
     "text": [
      "Shape of similarities:  (1, 15778)\n"
     ]
    }
   ],
   "source": [
    "from sklearn.metrics.pairwise import cosine_similarity\n",
    "# Join the blocks embeddings with the pages embeddings\n",
    "combined_embeddings = retrieved_embeddings[0]\n",
    "similarities = cosine_similarity(query_embedding, combined_embeddings)\n",
    "print(\"Shape of similarities: \", similarities.shape)"
   ]
  },
  {
   "cell_type": "code",
   "execution_count": 49,
   "metadata": {},
   "outputs": [
    {
     "data": {
      "text/html": [
       "<div>\n",
       "<style scoped>\n",
       "    .dataframe tbody tr th:only-of-type {\n",
       "        vertical-align: middle;\n",
       "    }\n",
       "\n",
       "    .dataframe tbody tr th {\n",
       "        vertical-align: top;\n",
       "    }\n",
       "\n",
       "    .dataframe thead th {\n",
       "        text-align: right;\n",
       "    }\n",
       "</style>\n",
       "<table border=\"1\" class=\"dataframe\">\n",
       "  <thead>\n",
       "    <tr style=\"text-align: right;\">\n",
       "      <th></th>\n",
       "      <th>Type</th>\n",
       "      <th>Content</th>\n",
       "      <th>Path</th>\n",
       "      <th>Score</th>\n",
       "    </tr>\n",
       "  </thead>\n",
       "  <tbody>\n",
       "    <tr>\n",
       "      <th>0</th>\n",
       "      <td>block</td>\n",
       "      <td>\\t\\t\\t- Our purpose is to glorify God and find joy in him</td>\n",
       "      <td>/Users/freddycaceres/Research/Second brain/2022_12_25.md#9</td>\n",
       "      <td>0.721803</td>\n",
       "    </tr>\n",
       "    <tr>\n",
       "      <th>1</th>\n",
       "      <td>block</td>\n",
       "      <td>\\t- The purpose driven life</td>\n",
       "      <td>/Users/freddycaceres/Research/Second brain/2023_05_13.md#3</td>\n",
       "      <td>0.721707</td>\n",
       "    </tr>\n",
       "    <tr>\n",
       "      <th>2</th>\n",
       "      <td>block</td>\n",
       "      <td>\\t\\t- **Tags**: #[[favorite]]</td>\n",
       "      <td>/Users/freddycaceres/Research/Second brain/My Early Life - Winston S. Churchill, William Manches...</td>\n",
       "      <td>0.720421</td>\n",
       "    </tr>\n",
       "    <tr>\n",
       "      <th>3</th>\n",
       "      <td>block</td>\n",
       "      <td>\\t- Rhetoric falls into three divisions, determined by the three classes of listeners to speeche...</td>\n",
       "      <td>/Users/freddycaceres/Research/Second brain/Rhetoric - Aristotle.md#27</td>\n",
       "      <td>0.705235</td>\n",
       "    </tr>\n",
       "    <tr>\n",
       "      <th>4</th>\n",
       "      <td>block</td>\n",
       "      <td>last_highlighted_date:: December 17, 2022</td>\n",
       "      <td>/Users/freddycaceres/Research/Second brain/The Fastest Way to Kill... - @Austen on Twitter.md#5</td>\n",
       "      <td>0.693172</td>\n",
       "    </tr>\n",
       "    <tr>\n",
       "      <th>5</th>\n",
       "      <td>block</td>\n",
       "      <td>published_date::</td>\n",
       "      <td>/Users/freddycaceres/Research/Second brain/Tweets From Figen - @TheFigen on Twitter.md#7</td>\n",
       "      <td>0.692874</td>\n",
       "    </tr>\n",
       "    <tr>\n",
       "      <th>6</th>\n",
       "      <td>block</td>\n",
       "      <td>\\t- I often talk about how I want to live a purpose driven life but in the last years I have bee...</td>\n",
       "      <td>/Users/freddycaceres/Research/Second brain/2024_07_09.md#19</td>\n",
       "      <td>0.684423</td>\n",
       "    </tr>\n",
       "    <tr>\n",
       "      <th>7</th>\n",
       "      <td>block</td>\n",
       "      <td>\\t  }</td>\n",
       "      <td>/Users/freddycaceres/Research/Second brain/to___study.md#124</td>\n",
       "      <td>0.678940</td>\n",
       "    </tr>\n",
       "    <tr>\n",
       "      <th>8</th>\n",
       "      <td>block</td>\n",
       "      <td>\\t                                   (sort-by (fn [h]</td>\n",
       "      <td>/Users/freddycaceres/Research/Second brain/to___study.md#122</td>\n",
       "      <td>0.670128</td>\n",
       "    </tr>\n",
       "    <tr>\n",
       "      <th>9</th>\n",
       "      <td>block</td>\n",
       "      <td>\\t- I was once asked to devise an inscription for a monument in France. I wrote, ‘In war, Resolu...</td>\n",
       "      <td>/Users/freddycaceres/Research/Second brain/My Early Life - Winston S. Churchill, William Manches...</td>\n",
       "      <td>0.669704</td>\n",
       "    </tr>\n",
       "  </tbody>\n",
       "</table>\n",
       "</div>"
      ],
      "text/plain": [
       "    Type  \\\n",
       "0  block   \n",
       "1  block   \n",
       "2  block   \n",
       "3  block   \n",
       "4  block   \n",
       "5  block   \n",
       "6  block   \n",
       "7  block   \n",
       "8  block   \n",
       "9  block   \n",
       "\n",
       "                                                                                               Content  \\\n",
       "0                                            \\t\\t\\t- Our purpose is to glorify God and find joy in him   \n",
       "1                                                                          \\t- The purpose driven life   \n",
       "2                                                                        \\t\\t- **Tags**: #[[favorite]]   \n",
       "3  \\t- Rhetoric falls into three divisions, determined by the three classes of listeners to speeche...   \n",
       "4                                                            last_highlighted_date:: December 17, 2022   \n",
       "5                                                                                    published_date::    \n",
       "6  \\t- I often talk about how I want to live a purpose driven life but in the last years I have bee...   \n",
       "7                                                                                                \\t  }   \n",
       "8                                                \\t                                   (sort-by (fn [h]   \n",
       "9  \\t- I was once asked to devise an inscription for a monument in France. I wrote, ‘In war, Resolu...   \n",
       "\n",
       "                                                                                                  Path  \\\n",
       "0                                           /Users/freddycaceres/Research/Second brain/2022_12_25.md#9   \n",
       "1                                           /Users/freddycaceres/Research/Second brain/2023_05_13.md#3   \n",
       "2  /Users/freddycaceres/Research/Second brain/My Early Life - Winston S. Churchill, William Manches...   \n",
       "3                                /Users/freddycaceres/Research/Second brain/Rhetoric - Aristotle.md#27   \n",
       "4      /Users/freddycaceres/Research/Second brain/The Fastest Way to Kill... - @Austen on Twitter.md#5   \n",
       "5             /Users/freddycaceres/Research/Second brain/Tweets From Figen - @TheFigen on Twitter.md#7   \n",
       "6                                          /Users/freddycaceres/Research/Second brain/2024_07_09.md#19   \n",
       "7                                         /Users/freddycaceres/Research/Second brain/to___study.md#124   \n",
       "8                                         /Users/freddycaceres/Research/Second brain/to___study.md#122   \n",
       "9  /Users/freddycaceres/Research/Second brain/My Early Life - Winston S. Churchill, William Manches...   \n",
       "\n",
       "      Score  \n",
       "0  0.721803  \n",
       "1  0.721707  \n",
       "2  0.720421  \n",
       "3  0.705235  \n",
       "4  0.693172  \n",
       "5  0.692874  \n",
       "6  0.684423  \n",
       "7  0.678940  \n",
       "8  0.670128  \n",
       "9  0.669704  "
      ]
     },
     "execution_count": 49,
     "metadata": {},
     "output_type": "execute_result"
    }
   ],
   "source": [
    "import numpy as np\n",
    "import pandas as pd\n",
    "\n",
    "blocks_length = 15066\n",
    "pages_length = 356\n",
    "\n",
    "def find_most_similar_embeddings(similarities, blocks, pages, blocks_length, pages_length, top_n=10):\n",
    "    # Find the most similar embedding\n",
    "    top_5_indices = np.argsort(similarities[0])[-top_n:][::-1]\n",
    "    top_data = [\n",
    "        (\"block\", blocks[i][3], blocks[i][2], similarities[0, i]) if i < blocks_length \n",
    "        else (\"page\", pages[i - blocks_length][1], pages[i - blocks_length][2], similarities[0, i]) \n",
    "        if i < blocks_length + pages_length\n",
    "        else (\"page_title\", pages[i - blocks_length - pages_length][1], pages[i - blocks_length - pages_length][2], similarities[0, i])\n",
    "        for i in top_5_indices\n",
    "    ]\n",
    "    return top_data\n",
    "\n",
    "top_data = find_most_similar_embeddings(similarities, blocks, pages, blocks_length, pages_length)\n",
    "pd.set_option('display.max_colwidth', 100)\n",
    "pd.DataFrame(top_data, columns=[\"Type\", \"Content\", \"Path\", \"Score\"])"
   ]
  },
  {
   "cell_type": "code",
   "execution_count": 12,
   "metadata": {},
   "outputs": [
    {
     "data": {
      "text/plain": [
       "[('block',\n",
       "  '- Great quote from [[persons/Benjamin Franklin]] about a happy meaningful life, and the art of journaling that life',\n",
       "  '/Users/freddycaceres/Research/Second brain/2023_06_28.md#0',\n",
       "  0.76174617),\n",
       " ('block',\n",
       "  '\\t- Of the joy he found in writing, he said, ‘To sit at one’s table on a sunny morning, with four clear hours of uninterruptible security, plenty of nice white paper, and a Squeezer pen*\\xa0– that is true happiness.’ ([Location\\xa02998](https://readwise.io/to_kindle?action=open&asin=B079R3VH13&location=2998))',\n",
       "  '/Users/freddycaceres/Research/Second brain/Churchill - Andrew Roberts.md#114',\n",
       "  0.7252633)]"
      ]
     },
     "execution_count": 12,
     "metadata": {},
     "output_type": "execute_result"
    }
   ],
   "source": [
    "top_data"
   ]
  },
  {
   "cell_type": "code",
   "execution_count": 13,
   "metadata": {},
   "outputs": [
    {
     "data": {
      "text/plain": [
       "\"\\nInstructions:\\n- Be helpful and answer questions concisely. If you don't know the answer, say 'I don't know'\\n- Utilize the context provided for accurate and specific information.\\n- Incorporate your preexisting knowledge to enhance the depth and relevance of your response.\\nContext: \\n{\\ntitle: The Autobiography of Benjamin Franklin - Benjamin Franklin\\nauthor: Benjamin Franklin\\ntext: That felicity, when I reflected on it, has induced me sometimes to say, that were it offered to my choice, I should have no objection to a repetition of the same life from its beginning, only asking the advantages authors have in a second edition to correct some faults of the first. So I might, besides correcting the faults, change some sinister accidents and events of it for others more favorable. But though this were denied, I should still accept the offer. Since such a repetition is not to be expected, the next thing most like living one’s life over again seems to be a recollection of that life, and to make that recollection as durable as possible by putting it down in writing.\\n}\\n---\\n\\n{\\ntitle: My Early Life - Winston S. Churchill, William Manchester (Introduction)\\nauthor: Winston Churchill\\ntext: Where my reason, imagination or interest were not engaged, I would not or I could not learn. In all the twelve years I was at school no one ever succeeded in making me write a Latin verse or learn any Greek except the alphabet. I do not at all excuse myself for this foolish neglect of opportunities procured at so much expense by my parents and brought so forcibly to my attention by my Preceptors. Perhaps if I had been introduced to the ancients through their history and customs, instead of through their grammar and syntax, I might have had a better record.\\n}\\n\\n\""
      ]
     },
     "execution_count": 13,
     "metadata": {},
     "output_type": "execute_result"
    }
   ],
   "source": [
    "# matched_info = ' '.join(item['metadata']['text'] for item in result['matches'])\n",
    "# sources = [item['metadata']['source'] for item in result['matches']]\n",
    "# generate a test context based on Franklin's writing\n",
    "block_1 = \"\"\"\n",
    "{\n",
    "title: The Autobiography of Benjamin Franklin - Benjamin Franklin\n",
    "author: Benjamin Franklin\n",
    "text: That felicity, when I reflected on it, has induced me sometimes to say, that were it offered to my choice, I should have no objection to a repetition of the same life from its beginning, only asking the advantages authors have in a second edition to correct some faults of the first. So I might, besides correcting the faults, change some sinister accidents and events of it for others more favorable. But though this were denied, I should still accept the offer. Since such a repetition is not to be expected, the next thing most like living one’s life over again seems to be a recollection of that life, and to make that recollection as durable as possible by putting it down in writing.\n",
    "}\n",
    "\"\"\" \n",
    "block_2 = \"\"\"\n",
    "{\n",
    "title: My Early Life - Winston S. Churchill, William Manchester (Introduction)\n",
    "author: Winston Churchill\n",
    "text: Where my reason, imagination or interest were not engaged, I would not or I could not learn. In all the twelve years I was at school no one ever succeeded in making me write a Latin verse or learn any Greek except the alphabet. I do not at all excuse myself for this foolish neglect of opportunities procured at so much expense by my parents and brought so forcibly to my attention by my Preceptors. Perhaps if I had been introduced to the ancients through their history and customs, instead of through their grammar and syntax, I might have had a better record.\n",
    "}\n",
    "\"\"\"\n",
    "\n",
    "# combine block_1 and block_2\n",
    "context = block_1 + \"---\\n\" + block_2\n",
    "\n",
    "sys_prompt = f\"\"\"\n",
    "Instructions:\n",
    "- Be helpful and answer questions concisely. If you don't know the answer, say 'I don't know'\n",
    "- Utilize the context provided for accurate and specific information.\n",
    "- Incorporate your preexisting knowledge to enhance the depth and relevance of your response.\n",
    "Context: \n",
    "\"\"\"\n",
    "\n",
    "sys_prompt\n"
   ]
  },
  {
   "cell_type": "code",
   "execution_count": 14,
   "metadata": {},
   "outputs": [],
   "source": [
    "import os\n",
    "\n",
    "from groq import Groq\n",
    "\n",
    "client = Groq(\n",
    "    # This is the default and can be omitted\n",
    "    api_key=os.environ.get(\"GROQ_API_KEY\"),\n",
    ")\n",
    "\n",
    "user_query = \"what is the meaning of life you consult people who are provided in the context?\"\n",
    "\n",
    "chat_completion = client.chat.completions.create(\n",
    "    messages=[\n",
    "        {\n",
    "            \"role\": \"system\",\n",
    "            \"content\": sys_prompt,\n",
    "        },\n",
    "        {\n",
    "            \"role\": \"user\",\n",
    "            \"content\": user_query,\n",
    "        }\n",
    "    ],\n",
    "    model=\"llama3-70b-8192\",\n",
    ")\n",
    "\n",
    "response = chat_completion.choices[0].message.content\n",
    "\n",
    "# split the response by 150 characters\n",
    "response = [response[i:i+150] for i in range(0, len(response), 150)]\n",
    "\n",
    "\n",
    "\n",
    "\n"
   ]
  },
  {
   "cell_type": "code",
   "execution_count": 15,
   "metadata": {},
   "outputs": [
    {
     "name": "stdout",
     "output_type": "stream",
     "text": [
      "An intriguing question!\n",
      "\n",
      "Let's consult Benjamin Franklin and Winston Churchill, both prominent figures in history, to gain insights into their perspec\n",
      "tives on the meaning of life.\n",
      "\n",
      "Benjamin Franklin's autobiography suggests that the meaning of life lies in living it to the fullest, with the ability \n",
      "to reflect on one's experiences and learn from them. He implies that if he could relive his life, he would make corrections and changes to overcome pa\n",
      "st mistakes and unfavorable events. However, even without the opportunity to relive his life, he finds value in recollecting and recording his experie\n",
      "nces, making them as durable as possible through writing. This implies that Franklin believes the meaning of life comes from living, learning, and sha\n",
      "ring one's experiences with others.\n",
      "\n",
      "Winston Churchill, on the other hand, provides a slightly different perspective. In his writing, he highlights th\n",
      "e importance of passion, interest, and engagement in shaping one's life. He admits that he was not drawn to traditional learning, such as Latin and Gr\n",
      "eek, and instead found meaning in exploring history and customs. This implies that Churchill believes the meaning of life lies in pursuing one's passi\n",
      "ons and interests, even if they may not align with conventional expectations.\n",
      "\n",
      "In summary, both Franklin and Churchill suggest that the meaning of lif\n",
      "e is closely tied to living a fulfilling and purposeful existence, which is shaped by one's experiences, passions, and reflections.\n"
     ]
    }
   ],
   "source": [
    "# print the response array\n",
    "for i in response:\n",
    "    print(i)"
   ]
  },
  {
   "cell_type": "code",
   "execution_count": 52,
   "metadata": {},
   "outputs": [
    {
     "data": {
      "application/vnd.jupyter.widget-view+json": {
       "model_id": "df314efa4f05405dbf69135c4eebd211",
       "version_major": 2,
       "version_minor": 0
      },
      "text/plain": [
       "Fetching 5 files:   0%|          | 0/5 [00:00<?, ?it/s]"
      ]
     },
     "metadata": {},
     "output_type": "display_data"
    },
    {
     "name": "stdout",
     "output_type": "stream",
     "text": [
      "User input:  What is the purpose of life?\n",
      "Titles of the data:\n",
      "/Users/freddycaceres/Research/Second brain/2022_12_25.md#9\n",
      "/Users/freddycaceres/Research/Second brain/2023_05_13.md#3\n",
      "/Users/freddycaceres/Research/Second brain/My Early Life - Winston S. Churchill, William Manchester (Introduction).md#130\n",
      "/Users/freddycaceres/Research/Second brain/Rhetoric - Aristotle.md#27\n",
      "/Users/freddycaceres/Research/Second brain/The Fastest Way to Kill... - @Austen on Twitter.md#5\n",
      "/Users/freddycaceres/Research/Second brain/Tweets From Figen - @TheFigen on Twitter.md#7\n",
      "/Users/freddycaceres/Research/Second brain/2024_07_09.md#19\n",
      "/Users/freddycaceres/Research/Second brain/to___study.md#124\n",
      "/Users/freddycaceres/Research/Second brain/to___study.md#122\n",
      "/Users/freddycaceres/Research/Second brain/My Early Life - Winston S. Churchill, William Manchester (Introduction).md#131\n",
      "You: What is the purpose of life?\n",
      "Assistant: According to the context provided, the purpose of life is to \"glorify God and find joy in him.\" This is mentioned in the note \"/Users/freddycaceres/Research/Second brain/2022_12_25.md#9\". Additionally, the concept of living a \"purpose-driven life\" is also mentioned in other notes, suggesting that finding one's purpose and living according to it is a key aspect of a fulfilling life.\n"
     ]
    }
   ],
   "source": [
    "from sklearn.metrics.pairwise import cosine_similarity\n",
    "\n",
    "\n",
    "embedding_model = TextEmbedding()\n",
    "\n",
    "count = 0\n",
    "extra_context = \"\"\n",
    "sys_prompt = \"\"\n",
    "chat_history = []\n",
    "\n",
    "while True:\n",
    "  # Get user input from the console\n",
    "  user_input = input(\"You: \")\n",
    "  if count == 0:\n",
    "    print(\"User input: \", user_input)\n",
    "    query_embedding = list(embedding_model.embed(user_input))\n",
    "    # Join the blocks embeddings with the pages embeddings\n",
    "    similarities = cosine_similarity(query_embedding, combined_embeddings)\n",
    "    top_data = find_most_similar_embeddings(similarities, blocks, pages, blocks_length, pages_length)\n",
    "    titles = [item[3] for item in top_data]\n",
    "    print(\"Titles of the data:\")\n",
    "    for title in titles:\n",
    "        print(title)\n",
    "    extra_context = \" \".join([f\"{item[1]} - {item[2]} - {item[3]}\" for item in top_data])\n",
    "    sys_prompt = f\"\"\"\n",
    "      Instructions:\n",
    "      - Be helpful and answer questions concisely. If you don't know the answer, say 'I don't know'\n",
    "      - Utilize the context provided for accurate and specific information.\n",
    "      - Incorporate your preexisting knowledge to enhance the depth and relevance of your response.\n",
    "      Context: {extra_context}\n",
    "      \"\"\"\n",
    "    # Initialize the chat history\n",
    "    chat_history.append({\n",
    "      \"role\": \"system\",\n",
    "      \"content\": sys_prompt,\n",
    "    })\n",
    "\n",
    "\n",
    "  print(\"You:\", user_input)\n",
    "\n",
    "  # check if input contains exit\n",
    "  if user_input.find(\"exit\") != -1:\n",
    "    break\n",
    "\n",
    "  # Append the user input to the chat history\n",
    "  chat_history.append({\"role\": \"user\", \"content\": user_input})\n",
    "\n",
    "  response = client.chat.completions.create(model=\"llama3-70b-8192\",\n",
    "                                            messages=chat_history,\n",
    "                                            max_tokens=500\n",
    "                                            )\n",
    "  # Append the response to the chat history\n",
    "  chat_history.append({\n",
    "      \"role\": \"assistant\",\n",
    "      \"content\": response.choices[0].message.content\n",
    "  })\n",
    "  # Print the response\n",
    "  print(\"Assistant:\", response.choices[0].message.content)"
   ]
  }
 ],
 "metadata": {
  "kernelspec": {
   "display_name": "embed-2-fr",
   "language": "python",
   "name": "python3"
  },
  "language_info": {
   "codemirror_mode": {
    "name": "ipython",
    "version": 3
   },
   "file_extension": ".py",
   "mimetype": "text/x-python",
   "name": "python",
   "nbconvert_exporter": "python",
   "pygments_lexer": "ipython3",
   "version": "3.12.7"
  }
 },
 "nbformat": 4,
 "nbformat_minor": 2
}
