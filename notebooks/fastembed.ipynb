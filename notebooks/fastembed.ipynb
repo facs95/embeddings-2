{
 "cells": [
  {
   "cell_type": "code",
   "execution_count": 10,
   "metadata": {},
   "outputs": [
    {
     "name": "stdout",
     "output_type": "stream",
     "text": [
      "Total blocks:  5971\n"
     ]
    }
   ],
   "source": [
    "import sqlite3\n",
    "\n",
    "# Connect to the database\n",
    "conn = sqlite3.connect('data.db')\n",
    "\n",
    "# Create a cursor object\n",
    "cursor = conn.cursor()\n",
    "\n",
    "# Query all the pages\n",
    "cursor.execute('SELECT * FROM blocks')\n",
    "data = cursor.fetchall()\n",
    "print('Total blocks: ', len(data))"
   ]
  },
  {
   "cell_type": "code",
   "execution_count": 6,
   "metadata": {},
   "outputs": [
    {
     "data": {
      "text/html": [
       "<div>\n",
       "<style scoped>\n",
       "    .dataframe tbody tr th:only-of-type {\n",
       "        vertical-align: middle;\n",
       "    }\n",
       "\n",
       "    .dataframe tbody tr th {\n",
       "        vertical-align: top;\n",
       "    }\n",
       "\n",
       "    .dataframe thead th {\n",
       "        text-align: right;\n",
       "    }\n",
       "</style>\n",
       "<table border=\"1\" class=\"dataframe\">\n",
       "  <thead>\n",
       "    <tr style=\"text-align: right;\">\n",
       "      <th></th>\n",
       "      <th>model</th>\n",
       "      <th>size_in_GB</th>\n",
       "      <th>description</th>\n",
       "      <th>license</th>\n",
       "    </tr>\n",
       "  </thead>\n",
       "  <tbody>\n",
       "    <tr>\n",
       "      <th>0</th>\n",
       "      <td>Xenova/ms-marco-MiniLM-L-6-v2</td>\n",
       "      <td>0.08</td>\n",
       "      <td>MiniLM-L-6-v2 model optimized for re-ranking t...</td>\n",
       "      <td>apache-2.0</td>\n",
       "    </tr>\n",
       "    <tr>\n",
       "      <th>1</th>\n",
       "      <td>Xenova/ms-marco-MiniLM-L-12-v2</td>\n",
       "      <td>0.12</td>\n",
       "      <td>MiniLM-L-12-v2 model optimized for re-ranking ...</td>\n",
       "      <td>apache-2.0</td>\n",
       "    </tr>\n",
       "    <tr>\n",
       "      <th>2</th>\n",
       "      <td>jinaai/jina-reranker-v1-tiny-en</td>\n",
       "      <td>0.13</td>\n",
       "      <td>Designed for blazing-fast re-ranking with 8K c...</td>\n",
       "      <td>apache-2.0</td>\n",
       "    </tr>\n",
       "    <tr>\n",
       "      <th>3</th>\n",
       "      <td>jinaai/jina-reranker-v1-turbo-en</td>\n",
       "      <td>0.15</td>\n",
       "      <td>Designed for blazing-fast re-ranking with 8K c...</td>\n",
       "      <td>apache-2.0</td>\n",
       "    </tr>\n",
       "    <tr>\n",
       "      <th>4</th>\n",
       "      <td>BAAI/bge-reranker-base</td>\n",
       "      <td>1.04</td>\n",
       "      <td>BGE reranker base model for cross-encoder re-r...</td>\n",
       "      <td>mit</td>\n",
       "    </tr>\n",
       "    <tr>\n",
       "      <th>5</th>\n",
       "      <td>jinaai/jina-reranker-v2-base-multilingual</td>\n",
       "      <td>1.11</td>\n",
       "      <td>A multi-lingual reranker model for cross-encod...</td>\n",
       "      <td>cc-by-nc-4.0</td>\n",
       "    </tr>\n",
       "  </tbody>\n",
       "</table>\n",
       "</div>"
      ],
      "text/plain": [
       "                                       model  size_in_GB  \\\n",
       "0              Xenova/ms-marco-MiniLM-L-6-v2        0.08   \n",
       "1             Xenova/ms-marco-MiniLM-L-12-v2        0.12   \n",
       "2            jinaai/jina-reranker-v1-tiny-en        0.13   \n",
       "3           jinaai/jina-reranker-v1-turbo-en        0.15   \n",
       "4                     BAAI/bge-reranker-base        1.04   \n",
       "5  jinaai/jina-reranker-v2-base-multilingual        1.11   \n",
       "\n",
       "                                         description       license  \n",
       "0  MiniLM-L-6-v2 model optimized for re-ranking t...    apache-2.0  \n",
       "1  MiniLM-L-12-v2 model optimized for re-ranking ...    apache-2.0  \n",
       "2  Designed for blazing-fast re-ranking with 8K c...    apache-2.0  \n",
       "3  Designed for blazing-fast re-ranking with 8K c...    apache-2.0  \n",
       "4  BGE reranker base model for cross-encoder re-r...           mit  \n",
       "5  A multi-lingual reranker model for cross-encod...  cc-by-nc-4.0  "
      ]
     },
     "execution_count": 6,
     "metadata": {},
     "output_type": "execute_result"
    }
   ],
   "source": [
    "import pandas as pd\n",
    "from fastembed.rerank.cross_encoder import TextCrossEncoder\n",
    "\n",
    "(\n",
    "    pd.DataFrame(TextCrossEncoder.list_supported_models())\n",
    "    .sort_values(\"size_in_GB\")\n",
    "    .drop(columns=[\"sources\", \"model_file\"])\n",
    "    .reset_index(drop=True)\n",
    ")"
   ]
  },
  {
   "cell_type": "code",
   "execution_count": 7,
   "metadata": {},
   "outputs": [],
   "source": [
    "# Embed the content of the blocks\n",
    "# Note: that the index remains the same so we can match the original data\n",
    "data_to_embed = [block[3] for block in blocks]"
   ]
  },
  {
   "cell_type": "code",
   "execution_count": 8,
   "metadata": {},
   "outputs": [
    {
     "data": {
      "text/plain": [
       "'- [Investment research for everyone](https://openbb.co/) /tit'"
      ]
     },
     "execution_count": 8,
     "metadata": {},
     "output_type": "execute_result"
    }
   ],
   "source": [
    "data_to_embed[0]"
   ]
  },
  {
   "cell_type": "code",
   "execution_count": 16,
   "metadata": {},
   "outputs": [
    {
     "data": {
      "application/vnd.jupyter.widget-view+json": {
       "model_id": "b90463bacaf1460cb1b5f873b82f97eb",
       "version_major": 2,
       "version_minor": 0
      },
      "text/plain": [
       "Fetching 5 files:   0%|          | 0/5 [00:00<?, ?it/s]"
      ]
     },
     "metadata": {},
     "output_type": "display_data"
    },
    {
     "name": "stdout",
     "output_type": "stream",
     "text": [
      "Top scores:\n",
      "tensor([-3.2670, -5.6382, -6.5174, -6.6383, -7.2767])\n"
     ]
    }
   ],
   "source": [
    "from fastembed.rerank.cross_encoder import TextCrossEncoder\n",
    "import torch\n",
    "\n",
    "query = 'trade within countries'\n",
    "encoder = TextCrossEncoder(model_name=\"Xenova/ms-marco-MiniLM-L-12-v2\")\n",
    "scores = list(encoder.rerank(query, data_to_embed))\n",
    "top_scores = torch.topk(torch.tensor(scores), 5, dim=0)\n",
    "print(\"Top scores:\")\n",
    "print(top_scores.values)\n"
   ]
  },
  {
   "cell_type": "code",
   "execution_count": 18,
   "metadata": {},
   "outputs": [
    {
     "name": "stdout",
     "output_type": "stream",
     "text": [
      "Top 5 pages content, path, and score:\n"
     ]
    },
    {
     "data": {
      "text/html": [
       "<div>\n",
       "<style scoped>\n",
       "    .dataframe tbody tr th:only-of-type {\n",
       "        vertical-align: middle;\n",
       "    }\n",
       "\n",
       "    .dataframe tbody tr th {\n",
       "        vertical-align: top;\n",
       "    }\n",
       "\n",
       "    .dataframe thead th {\n",
       "        text-align: right;\n",
       "    }\n",
       "</style>\n",
       "<table border=\"1\" class=\"dataframe\">\n",
       "  <thead>\n",
       "    <tr style=\"text-align: right;\">\n",
       "      <th></th>\n",
       "      <th>Content</th>\n",
       "      <th>Path</th>\n",
       "      <th>Score</th>\n",
       "    </tr>\n",
       "  </thead>\n",
       "  <tbody>\n",
       "    <tr>\n",
       "      <th>0</th>\n",
       "      <td>\\t\\t\\t- Trade</td>\n",
       "      <td>/Users/freddycaceres/Research/Second brain/2024_03_14.md#15</td>\n",
       "      <td>-3.266987</td>\n",
       "    </tr>\n",
       "    <tr>\n",
       "      <th>1</th>\n",
       "      <td>\\t\\t- They enforce **economic** and **trade** sanctions based on US foreign policy</td>\n",
       "      <td>/Users/freddycaceres/Research/Second brain/2023_11_10.md#19</td>\n",
       "      <td>-5.638238</td>\n",
       "    </tr>\n",
       "    <tr>\n",
       "      <th>2</th>\n",
       "      <td>\\t\\t- They target foreign countries and regimes, terrorists, international narcotics traffickers...</td>\n",
       "      <td>/Users/freddycaceres/Research/Second brain/2023_11_10.md#20</td>\n",
       "      <td>-6.517385</td>\n",
       "    </tr>\n",
       "    <tr>\n",
       "      <th>3</th>\n",
       "      <td>\\t\\t- Proprietary trading</td>\n",
       "      <td>/Users/freddycaceres/Research/Second brain/2024_04_25.md#22</td>\n",
       "      <td>-6.638289</td>\n",
       "    </tr>\n",
       "    <tr>\n",
       "      <th>4</th>\n",
       "      <td>\\t- There is an interesting comparison between the Portuguese empire approach of building small ...</td>\n",
       "      <td>/Users/freddycaceres/Research/Second brain/2022_12_12.md#6</td>\n",
       "      <td>-7.276673</td>\n",
       "    </tr>\n",
       "  </tbody>\n",
       "</table>\n",
       "</div>"
      ],
      "text/plain": [
       "                                                                                               Content  \\\n",
       "0                                                                                        \\t\\t\\t- Trade   \n",
       "1                   \\t\\t- They enforce **economic** and **trade** sanctions based on US foreign policy   \n",
       "2  \\t\\t- They target foreign countries and regimes, terrorists, international narcotics traffickers...   \n",
       "3                                                                            \\t\\t- Proprietary trading   \n",
       "4  \\t- There is an interesting comparison between the Portuguese empire approach of building small ...   \n",
       "\n",
       "                                                          Path     Score  \n",
       "0  /Users/freddycaceres/Research/Second brain/2024_03_14.md#15 -3.266987  \n",
       "1  /Users/freddycaceres/Research/Second brain/2023_11_10.md#19 -5.638238  \n",
       "2  /Users/freddycaceres/Research/Second brain/2023_11_10.md#20 -6.517385  \n",
       "3  /Users/freddycaceres/Research/Second brain/2024_04_25.md#22 -6.638289  \n",
       "4   /Users/freddycaceres/Research/Second brain/2022_12_12.md#6 -7.276673  "
      ]
     },
     "execution_count": 18,
     "metadata": {},
     "output_type": "execute_result"
    }
   ],
   "source": [
    "import pandas as pd\n",
    "\n",
    "top_pages = [(data[i][3], data[i][2], scores[i]) for i in top_scores.indices]\n",
    "print(\"Top 5 pages content, path, and score:\")\n",
    "pd.set_option('display.max_colwidth', 100)\n",
    "df = pd.DataFrame(top_pages, columns=[\"Content\", \"Path\", \"Score\"])\n",
    "df"
   ]
  }
 ],
 "metadata": {
  "kernelspec": {
   "display_name": "Python 3 (venv)",
   "language": "python",
   "name": "venv"
  },
  "language_info": {
   "codemirror_mode": {
    "name": "ipython",
    "version": 3
   },
   "file_extension": ".py",
   "mimetype": "text/x-python",
   "name": "python",
   "nbconvert_exporter": "python",
   "pygments_lexer": "ipython3",
   "version": "3.12.6"
  }
 },
 "nbformat": 4,
 "nbformat_minor": 2
}
